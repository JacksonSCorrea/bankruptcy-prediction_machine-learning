{
  "nbformat": 4,
  "nbformat_minor": 0,
  "metadata": {
    "colab": {
      "provenance": [],
      "mount_file_id": "1xM6z-W2GUGgMN_-vERl0x_Xasp7rIp1O",
      "authorship_tag": "ABX9TyONdNptH1GXeoz0ndfze6DK"
    },
    "kernelspec": {
      "name": "python3",
      "display_name": "Python 3"
    },
    "language_info": {
      "name": "python"
    }
  },
  "cells": [
    {
      "cell_type": "code",
      "source": [
        "# Carregando o modelo\n",
        "\n",
        "import pickle\n",
        "\n",
        "# # Carregar o modelo (upar na pasta 'content', ou montar o drive e passar o caminho)\n",
        "with open('/content/drive/MyDrive/Colab Notebooks/Projetos pessoais/01. Projetos Machine Learning/Falência de empresas Tailandesas/Modelo Final.pkl', 'rb') as zip_model:\n",
        "  modelo, scaler, X_new, y_new, feat_drop_const, feat_drop_corr = pickle.load(zip_model)\n",
        "\n",
        "X_new = X_new.drop(feat_drop_const,axis=1)\n",
        "X_new = X_new.drop(feat_drop_corr,axis=1)\n",
        "\n",
        "# Aplicando transformação nos dados X\n",
        "X_new = scaler.transform(X_new)\n",
        "\n",
        "# Fazendo predições\n",
        "y_pred_new = modelo.predict(X_new)\n",
        "\n",
        "# Recall\n",
        "from sklearn.metrics import classification_report\n",
        "print(classification_report(y_pred_new,y_new))\n",
        "\n",
        "# Matriz de confusão\n",
        "from sklearn.metrics import confusion_matrix\n",
        "print(f'Matriz de confusão:\\n{confusion_matrix(y_pred_new,y_new)}')"
      ],
      "metadata": {
        "colab": {
          "base_uri": "https://localhost:8080/"
        },
        "id": "y2YHVt2Jtfp_",
        "outputId": "ac16cdc2-1b2e-49bf-a5f9-2c78bc8dbe6b"
      },
      "execution_count": 1,
      "outputs": [
        {
          "output_type": "stream",
          "name": "stdout",
          "text": [
            "              precision    recall  f1-score   support\n",
            "\n",
            "           0       0.99      0.97      0.98       337\n",
            "           1       0.18      0.50      0.27         4\n",
            "\n",
            "    accuracy                           0.97       341\n",
            "   macro avg       0.59      0.74      0.63       341\n",
            "weighted avg       0.98      0.97      0.98       341\n",
            "\n",
            "Matriz de confusão:\n",
            "[[328   9]\n",
            " [  2   2]]\n"
          ]
        }
      ]
    }
  ]
}